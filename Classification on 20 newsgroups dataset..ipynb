{
 "cells": [
  {
   "cell_type": "code",
   "execution_count": 60,
   "metadata": {},
   "outputs": [],
   "source": [
    "# -*- coding: utf-8 -*-\n",
    "\"\"\"\n",
    "Created on Wed Jun  6 23:44:47 2018\n",
    "\n",
    "@author: Rishi Varun\n",
    "\"\"\"\n",
    "\n",
    "\n",
    "#import libraries \n",
    "\n",
    "from sklearn.datasets import fetch_20newsgroups\n",
    "from sklearn.feature_extraction.text import TfidfTransformer\n",
    "from sklearn.feature_extraction.text import CountVectorizer\n",
    "\n",
    "from sklearn.naive_bayes import MultinomialNB\n",
    "import numpy as np\n",
    "from sklearn.pipeline import Pipeline\n",
    "\n",
    "#Below is the implementation without using pipeline.\n",
    "#preprocess data to train\n",
    "stuff_to_train = fetch_20newsgroups(subset='train', shuffle=True)\n",
    "#count_vect = CountVectorizer()\n",
    "#X_counts = count_vect.fit_transform(stuff_to_train.data)\n",
    "#X_counts.shape \n",
    "\n",
    "\n",
    "#tfidf_transformer = TfidfTransformer()\n",
    "#X_tfidf = tfidf_transformer.fit_transform(X_counts)\n",
    "#X_tfidf.shape\n",
    "\n",
    "#Naive Bayes\n",
    "#training Naive Bayes Model.\n",
    "#clf = MultinomialNB().fit(X_tfidf, stuff_to_train.target)\n",
    "\n"
   ]
  },
  {
   "cell_type": "code",
   "execution_count": 61,
   "metadata": {},
   "outputs": [
    {
     "name": "stdout",
     "output_type": "stream",
     "text": [
      "0.9690653212958046\n"
     ]
    }
   ],
   "source": [
    "from sklearn.preprocessing import StandardScaler\n",
    "#testing on Naive Bayes\n",
    "stuff_to_test = fetch_20newsgroups(subset='test', shuffle=True)\n",
    "\n",
    "#Below is the implementation using pipeline.\n",
    "#using pipelines to simplify the code for training.\n",
    "text_clf = Pipeline([('vect',CountVectorizer()),('clf',MultinomialNB())])\n",
    "text_clf = text_clf.fit(stuff_to_test.data, stuff_to_test.target)\n",
    "\n",
    "\n",
    "#predicton using the naive bayes classifier\n",
    "predicted = text_clf.predict(stuff_to_test.data)\n",
    "print(np.mean(predicted == stuff_to_test.target))\n"
   ]
  },
  {
   "cell_type": "code",
   "execution_count": 31,
   "metadata": {},
   "outputs": [
    {
     "data": {
      "text/plain": [
       "(11314,)"
      ]
     },
     "execution_count": 31,
     "metadata": {},
     "output_type": "execute_result"
    }
   ],
   "source": [
    "stuff_to_train.target.shape"
   ]
  },
  {
   "cell_type": "code",
   "execution_count": 36,
   "metadata": {},
   "outputs": [
    {
     "data": {
      "text/plain": [
       "{0, 1, 2, 3, 4, 5, 6, 7, 8, 9, 10, 11, 12, 13, 14, 15, 16, 17, 18, 19}"
      ]
     },
     "execution_count": 36,
     "metadata": {},
     "output_type": "execute_result"
    }
   ],
   "source": [
    "set(l)"
   ]
  },
  {
   "cell_type": "code",
   "execution_count": 38,
   "metadata": {},
   "outputs": [
    {
     "name": "stdout",
     "output_type": "stream",
     "text": [
      "             precision    recall  f1-score   support\n",
      "\n",
      "          0       0.88      0.86      0.87       319\n",
      "          1       0.97      0.94      0.95       389\n",
      "          2       0.96      0.95      0.96       394\n",
      "          3       0.91      0.98      0.94       392\n",
      "          4       0.99      0.97      0.98       385\n",
      "          5       0.99      0.96      0.98       395\n",
      "          6       0.98      0.91      0.94       390\n",
      "          7       0.98      0.98      0.98       396\n",
      "          8       0.99      0.99      0.99       398\n",
      "          9       0.99      0.99      0.99       397\n",
      "         10       0.98      0.99      0.99       399\n",
      "         11       0.95      0.99      0.97       396\n",
      "         12       0.98      0.97      0.97       393\n",
      "         13       0.98      0.99      0.99       396\n",
      "         14       0.96      0.99      0.98       394\n",
      "         15       0.70      1.00      0.82       398\n",
      "         16       0.82      0.99      0.90       364\n",
      "         17       0.95      1.00      0.97       376\n",
      "         18       0.99      0.76      0.86       310\n",
      "         19       1.00      0.29      0.46       251\n",
      "\n",
      "avg / total       0.95      0.94      0.93      7532\n",
      "\n"
     ]
    }
   ],
   "source": [
    "from sklearn.metrics import confusion_matrix, classification_report\n",
    "print(classification_report(stuff_to_test.target,predicted))"
   ]
  },
  {
   "cell_type": "code",
   "execution_count": 40,
   "metadata": {},
   "outputs": [],
   "source": [
    "# Example of how to give new inputs apart from datasets.\n",
    "text = \"Hello, my name is allen\" # custom input\n",
    "predict_new = text_clf.predict([text])"
   ]
  },
  {
   "cell_type": "code",
   "execution_count": 44,
   "metadata": {},
   "outputs": [
    {
     "name": "stdout",
     "output_type": "stream",
     "text": [
      "comp.os.ms-windows.misc\n"
     ]
    }
   ],
   "source": [
    "targetNames = stuff_to_train.target_names\n",
    "print(targetNames[int(predict_new)])\n",
    "Not sure about the output given."
   ]
  },
  {
   "cell_type": "code",
   "execution_count": null,
   "metadata": {},
   "outputs": [],
   "source": []
  }
 ],
 "metadata": {
  "kernelspec": {
   "display_name": "Python 3",
   "language": "python",
   "name": "python3"
  },
  "language_info": {
   "codemirror_mode": {
    "name": "ipython",
    "version": 3
   },
   "file_extension": ".py",
   "mimetype": "text/x-python",
   "name": "python",
   "nbconvert_exporter": "python",
   "pygments_lexer": "ipython3",
   "version": "3.6.4"
  }
 },
 "nbformat": 4,
 "nbformat_minor": 2
}
